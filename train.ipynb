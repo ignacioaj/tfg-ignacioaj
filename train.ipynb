{
  "cells": [
    {
      "cell_type": "markdown",
      "source": [
        "# Training and Validation"
      ],
      "metadata": {
        "id": "Pp9LxnCph-yM"
      }
    },
    {
      "cell_type": "markdown",
      "source": [
        "Remember to select a GPU to reduce model training times. To do this, go to 'Runtime environment' and click on 'Change runtime environment type'. It is recommended to use T4 GPU."
      ],
      "metadata": {
        "id": "86ZMVLZ0dS7k"
      }
    },
    {
      "cell_type": "markdown",
      "source": [
        "### [ EDIT ! ] Mount GDrive Folder and retrieve experiment zip\n",
        "\n",
        "\n",
        "\n"
      ],
      "metadata": {
        "id": "zhg7DLzYclHa"
      }
    },
    {
      "cell_type": "markdown",
      "source": [
        "Here, you have to indicate the location in your GDrive of the experiment you want to train the model with."
      ],
      "metadata": {
        "id": "34ADuZNy_750"
      }
    },
    {
      "cell_type": "code",
      "execution_count": null,
      "metadata": {
        "id": "tfiY_Q7JBV2E"
      },
      "outputs": [],
      "source": [
        "from google.colab import drive\n",
        "drive.mount('/content/drive')\n",
        "import zipfile\n",
        "\n",
        "zip = zipfile.ZipFile(\"/content/drive/MyDrive/Colab Notebooks/xxx.zip\") # EDIT HERE! Change to your desired experiment location\n",
        "zip.extractall(\"/content\")\n",
        "zip.close()"
      ]
    },
    {
      "cell_type": "markdown",
      "source": [
        "### Install and Import YOLO"
      ],
      "metadata": {
        "id": "nViF54crcRaB"
      }
    },
    {
      "cell_type": "code",
      "execution_count": null,
      "metadata": {
        "id": "6FYyTRBpCX1W"
      },
      "outputs": [],
      "source": [
        "! pip install ultralytics\n",
        "from ultralytics import YOLO"
      ]
    },
    {
      "cell_type": "markdown",
      "source": [
        "### Train Fold-1"
      ],
      "metadata": {
        "id": "OYPT9lDSa8Qy"
      }
    },
    {
      "cell_type": "code",
      "execution_count": null,
      "metadata": {
        "id": "3RoCzm7nn5uG"
      },
      "outputs": [],
      "source": [
        "!yolo task=detect mode=train model=yolov8x.pt data='/content/KFold-Cross Validation/Fold-1/data.yaml'"
      ]
    },
    {
      "cell_type": "markdown",
      "source": [
        "### Validate Fold-1"
      ],
      "metadata": {
        "id": "Uftd2mytbHXZ"
      }
    },
    {
      "cell_type": "code",
      "execution_count": null,
      "metadata": {
        "id": "PVEmi6UJud3D"
      },
      "outputs": [],
      "source": [
        "!yolo task=detect mode=val model='/content/runs/detect/train/weights/best.pt' data='/content/KFold-Cross Validation/Fold-1/data.yaml' save=true save_txt=true save_crop=true iou=0.7 conf=0.7"
      ]
    },
    {
      "cell_type": "markdown",
      "source": [
        "### Train Fold-2"
      ],
      "metadata": {
        "id": "ioFJtLC7bNEZ"
      }
    },
    {
      "cell_type": "code",
      "execution_count": null,
      "metadata": {
        "id": "BbDVmkdfoyLh"
      },
      "outputs": [],
      "source": [
        "!yolo task=detect mode=train model=yolov8x.pt data='/content/KFold-Cross Validation/Fold-2/data.yaml'"
      ]
    },
    {
      "cell_type": "markdown",
      "source": [
        "### Validate Fold-2"
      ],
      "metadata": {
        "id": "9kUsKpbybQ4c"
      }
    },
    {
      "cell_type": "code",
      "execution_count": null,
      "metadata": {
        "id": "sbPk8F0pugtq"
      },
      "outputs": [],
      "source": [
        "!yolo task=detect mode=val model='/content/runs/detect/train2/weights/best.pt' data='/content/KFold-Cross Validation/Fold-2/data.yaml' save=true save_txt=true save_crop=true iou=0.7 conf=0.7"
      ]
    },
    {
      "cell_type": "markdown",
      "source": [
        "### Train Fold-3"
      ],
      "metadata": {
        "id": "h86uS23sbS8k"
      }
    },
    {
      "cell_type": "code",
      "execution_count": null,
      "metadata": {
        "id": "h7mF5t7xpACV"
      },
      "outputs": [],
      "source": [
        "!yolo task=detect mode=train model=yolov8x.pt data='/content/KFold-Cross Validation/Fold-3/data.yaml'"
      ]
    },
    {
      "cell_type": "markdown",
      "source": [
        "### Validate Fold-3"
      ],
      "metadata": {
        "id": "UMfcoT1LbUME"
      }
    },
    {
      "cell_type": "code",
      "execution_count": null,
      "metadata": {
        "colab": {
          "background_save": true
        },
        "id": "molzAV0wujCX"
      },
      "outputs": [],
      "source": [
        "!yolo task=detect mode=val model='/content/runs/detect/train3/weights/best.pt' data='/content/KFold-Cross Validation/Fold-3/data.yaml' save=true save_txt=true save_crop=true iou=0.7 conf=0.7"
      ]
    },
    {
      "cell_type": "markdown",
      "source": [
        "### Train Fold-4"
      ],
      "metadata": {
        "id": "ZTZk7r8PbZmj"
      }
    },
    {
      "cell_type": "code",
      "execution_count": null,
      "metadata": {
        "id": "W8KyGrxcpDU9"
      },
      "outputs": [],
      "source": [
        "!yolo task=detect mode=train model=yolov8x.pt data='/content/KFold-Cross Validation/Fold-4/data.yaml'"
      ]
    },
    {
      "cell_type": "markdown",
      "source": [
        "### Validate Fold-4"
      ],
      "metadata": {
        "id": "FZdp5kKYbcaM"
      }
    },
    {
      "cell_type": "code",
      "execution_count": null,
      "metadata": {
        "id": "Fq4JGZISpOG8"
      },
      "outputs": [],
      "source": [
        "!yolo task=detect mode=val model='/content/runs/detect/train4/weights/best.pt' data='/content/KFold-Cross Validation/Fold-4/data.yaml' save=true save_txt=true save_crop=true iou=0.7 conf=0.7"
      ]
    },
    {
      "cell_type": "markdown",
      "source": [
        "### Train Fold-5"
      ],
      "metadata": {
        "id": "5Fu5TGVscJtD"
      }
    },
    {
      "cell_type": "code",
      "execution_count": null,
      "metadata": {
        "id": "XS-fkijKpG36"
      },
      "outputs": [],
      "source": [
        "!yolo task=detect mode=train model=yolov8x.pt data='/content/KFold-Cross Validation/Fold-5/data.yaml'"
      ]
    },
    {
      "cell_type": "markdown",
      "source": [
        "### Validate Fold-5"
      ],
      "metadata": {
        "id": "m7Z62qGwcLwF"
      }
    },
    {
      "cell_type": "code",
      "execution_count": null,
      "metadata": {
        "id": "B5Ug40hppOm5"
      },
      "outputs": [],
      "source": [
        "!yolo task=detect mode=val model='/content/runs/detect/train5/weights/best.pt' data='/content/KFold-Cross Validation/Fold-5/data.yaml' save=true save_txt=true save_crop=trueiou=0.7 conf=0.7"
      ]
    },
    {
      "cell_type": "markdown",
      "source": [
        "### Zip runs folder and upload it back to GDrive"
      ],
      "metadata": {
        "id": "28GIqRR0cZ3i"
      }
    },
    {
      "cell_type": "code",
      "execution_count": null,
      "metadata": {
        "id": "17lw64xq1oej"
      },
      "outputs": [],
      "source": [
        "from google.colab import files\n",
        "!zip -r '/content/runs.zip' '/content/runs'      # You may want to change runs zip name from here"
      ]
    },
    {
      "cell_type": "markdown",
      "source": [
        "Once the model has been trained with the experiment, you just have to upload it back to GDrive and download it from there (this will shrink download times, compared to downloading the zip directly from GColab).\n",
        "\n",
        "Remember to extract the downloaded zip and move the folder whose name is `runs` into `Runs` folder (from the project root directory).\n",
        "\n",
        "It is highly recommended to rename the experiment runs folder `runs` to '`Runs xxx`', being 'xxx' the experiment config code, for example:\n",
        "\n",
        "\n",
        "`'Runs so2'` , `'Runs nc3'` , `'Runs no4'` , ..."
      ],
      "metadata": {
        "id": "7fjaXnDkfLX_"
      }
    },
    {
      "cell_type": "code",
      "execution_count": null,
      "metadata": {
        "id": "nWucyR4E4zsF"
      },
      "outputs": [],
      "source": [
        "from google.colab import drive\n",
        "drive.mount('/content/drive',force_remount=True)\n",
        "!cp runs_no2_v2.zip '/content/drive/MyDrive/Colab Notebooks'\n",
        "!ls -lt '/content/drive/MyDrive/Colab Notebooks'"
      ]
    }
  ],
  "metadata": {
    "accelerator": "GPU",
    "colab": {
      "provenance": []
    },
    "kernelspec": {
      "display_name": "Python 3",
      "name": "python3"
    },
    "language_info": {
      "name": "python"
    }
  },
  "nbformat": 4,
  "nbformat_minor": 0
}